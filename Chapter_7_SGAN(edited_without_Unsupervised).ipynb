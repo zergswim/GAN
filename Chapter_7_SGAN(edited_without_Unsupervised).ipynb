{
  "cells": [
    {
      "cell_type": "markdown",
      "metadata": {
        "id": "view-in-github",
        "colab_type": "text"
      },
      "source": [
        "<a href=\"https://colab.research.google.com/github/zergswim/GAN/blob/main/Chapter_7_SGAN(edited_without_Unsupervised).ipynb\" target=\"_parent\"><img src=\"https://colab.research.google.com/assets/colab-badge.svg\" alt=\"Open In Colab\"/></a>"
      ]
    },
    {
      "cell_type": "markdown",
      "metadata": {
        "id": "Sgta16A7CUCW"
      },
      "source": [
        "# 7장: SGAN"
      ]
    },
    {
      "cell_type": "markdown",
      "metadata": {
        "id": "wGWR9bzYCUCa"
      },
      "source": [
        "<table align=\"left\">\n",
        "  <td>\n",
        "    <a target=\"_blank\" href=\"https://colab.research.google.com/github/rickiepark/gans-in-action/blob/master/chapter-7/Chapter_7_SGAN.ipynb\"><img src=\"https://www.tensorflow.org/images/colab_logo_32px.png\" />구글 코랩에서 실행하기</a>\n",
        "  </td>\n",
        "</table>"
      ]
    },
    {
      "cell_type": "code",
      "execution_count": 1,
      "metadata": {
        "id": "fMfOE4pUCUCb"
      },
      "outputs": [],
      "source": [
        "%matplotlib inline\n",
        "\n",
        "import matplotlib.pyplot as plt\n",
        "import numpy as np\n",
        "\n",
        "from tensorflow.keras import backend as K\n",
        "\n",
        "from tensorflow.keras.datasets import mnist\n",
        "from tensorflow.keras.layers import (Activation, BatchNormalization, Concatenate, Dense,\n",
        "                                     Dropout, Flatten, Input, Lambda, Reshape)\n",
        "from tensorflow.keras.layers import LeakyReLU\n",
        "from tensorflow.keras.layers import Conv2D, Conv2DTranspose\n",
        "from tensorflow.keras.models import Model, Sequential\n",
        "from tensorflow.keras.optimizers import Adam\n",
        "from tensorflow.keras.utils import to_categorical"
      ]
    },
    {
      "cell_type": "markdown",
      "metadata": {
        "id": "_4FgnWooCUCb"
      },
      "source": [
        "## 데이터셋"
      ]
    },
    {
      "cell_type": "code",
      "execution_count": 2,
      "metadata": {
        "id": "rOmpG7_ZCUCb"
      },
      "outputs": [],
      "source": [
        "class Dataset:\n",
        "    def __init__(self, num_labeled):\n",
        "\n",
        "        # 훈련에 사용할 레이블된 샘플 개수\n",
        "        self.num_labeled = num_labeled\n",
        "\n",
        "        # MNIST 데이터셋 적재\n",
        "        (self.x_train, self.y_train), (self.x_test,\n",
        "                                       self.y_test) = mnist.load_data()\n",
        "\n",
        "        def preprocess_imgs(x):\n",
        "            # [0, 255] 사이 흑백 픽셀 값을 [–1, 1] 사이로 변환\n",
        "            x = (x.astype(np.float32) - 127.5) / 127.5\n",
        "            # 너비 × 높이 × 채널로 이미지 차원을 확장\n",
        "            x = np.expand_dims(x, axis=3)\n",
        "            return x\n",
        "\n",
        "        def preprocess_labels(y):\n",
        "            return y.reshape(-1, 1)\n",
        "\n",
        "        # 훈련 데이터\n",
        "        self.x_train = preprocess_imgs(self.x_train)\n",
        "        self.y_train = preprocess_labels(self.y_train)\n",
        "\n",
        "        # 테스트 데이터\n",
        "        self.x_test = preprocess_imgs(self.x_test)\n",
        "        self.y_test = preprocess_labels(self.y_test)\n",
        "\n",
        "    def batch_labeled(self, batch_size):\n",
        "        # 레이블된 이미지와 레이블의 랜덤 배치 만들기\n",
        "        idx = np.random.randint(0, self.num_labeled, batch_size)\n",
        "        imgs = self.x_train[idx]\n",
        "        labels = self.y_train[idx]\n",
        "        return imgs, labels\n",
        "\n",
        "    def batch_unlabeled(self, batch_size):\n",
        "        # 레이블이 없는 이미지의 랜덤 배치 만들기\n",
        "        idx = np.random.randint(self.num_labeled, self.x_train.shape[0],\n",
        "                                batch_size)\n",
        "        imgs = self.x_train[idx]\n",
        "        return imgs\n",
        "\n",
        "    def training_set(self):\n",
        "        x_train = self.x_train[range(self.num_labeled)]\n",
        "        y_train = self.y_train[range(self.num_labeled)]\n",
        "        return x_train, y_train\n",
        "\n",
        "    def test_set(self):\n",
        "        return self.x_test, self.y_test"
      ]
    },
    {
      "cell_type": "code",
      "execution_count": 3,
      "metadata": {
        "id": "BcElbU6SCUCc"
      },
      "outputs": [],
      "source": [
        "num_labeled = 100\n",
        "dataset = Dataset(num_labeled)"
      ]
    },
    {
      "cell_type": "markdown",
      "metadata": {
        "id": "O9UQJrdTCUCc"
      },
      "source": [
        "# SGAN"
      ]
    },
    {
      "cell_type": "code",
      "execution_count": 4,
      "metadata": {
        "id": "TTpjfRu3CUCc"
      },
      "outputs": [],
      "source": [
        "img_rows = 28\n",
        "img_cols = 28\n",
        "channels = 1\n",
        "\n",
        "img_shape = (img_rows, img_cols, channels)\n",
        "z_dim = 100\n",
        "num_classes = 10"
      ]
    },
    {
      "cell_type": "markdown",
      "metadata": {
        "id": "pIst7kenCUCc"
      },
      "source": [
        "## 생성자"
      ]
    },
    {
      "cell_type": "code",
      "execution_count": 5,
      "metadata": {
        "id": "4WzMJ065CUCd"
      },
      "outputs": [],
      "source": [
        "def build_generator(z_dim):\n",
        "    model = Sequential()\n",
        "    model.add(Dense(256 * 7 * 7, input_dim=z_dim))\n",
        "    model.add(Reshape((7, 7, 256)))\n",
        "    model.add(Conv2DTranspose(128, kernel_size=3, strides=2, padding='same'))\n",
        "    model.add(BatchNormalization())\n",
        "    model.add(LeakyReLU(alpha=0.01))\n",
        "    model.add(Conv2DTranspose(64, kernel_size=3, strides=1, padding='same'))\n",
        "    model.add(BatchNormalization())\n",
        "    model.add(LeakyReLU(alpha=0.01))\n",
        "    model.add(Conv2DTranspose(1, kernel_size=3, strides=2, padding='same'))\n",
        "    model.add(Activation('tanh'))\n",
        "    return model"
      ]
    },
    {
      "cell_type": "markdown",
      "metadata": {
        "id": "2MJeqmKHCUCd"
      },
      "source": [
        "## 판별자"
      ]
    },
    {
      "cell_type": "code",
      "execution_count": 6,
      "metadata": {
        "id": "zYpCZ5fOCUCd"
      },
      "outputs": [],
      "source": [
        "def build_discriminator_net(img_shape):\n",
        "    model = Sequential()\n",
        "    model.add( Conv2D(32, kernel_size=3, strides=2, input_shape=img_shape, padding='same'))\n",
        "    model.add(LeakyReLU(alpha=0.01))\n",
        "    model.add( Conv2D(64, kernel_size=3, strides=2, padding='same'))\n",
        "    model.add(LeakyReLU(alpha=0.01))\n",
        "    model.add( Conv2D(128, kernel_size=3, strides=2, padding='same'))\n",
        "    model.add(LeakyReLU(alpha=0.01))\n",
        "    model.add(Dropout(0.5))\n",
        "    model.add(Flatten())\n",
        "    # model.add(Dense(num_classes))\n",
        "    return model"
      ]
    },
    {
      "cell_type": "code",
      "execution_count": 7,
      "metadata": {
        "id": "wcIsVDTgCUCd"
      },
      "outputs": [],
      "source": [
        "def build_discriminator_supervised(discriminator_net):\n",
        "    model = Sequential()\n",
        "    model.add(discriminator_net)\n",
        "    model.add(Dense(num_classes))\n",
        "    model.add(Activation('softmax'))\n",
        "    return model"
      ]
    },
    {
      "cell_type": "code",
      "execution_count": 8,
      "metadata": {
        "id": "_IVe9hFvCUCd"
      },
      "outputs": [],
      "source": [
        "def build_discriminator_unsupervised(discriminator_net):\n",
        "    model = Sequential()\n",
        "    model.add(discriminator_net)\n",
        "\n",
        "    # model.add(Dense(1, activation='sigmoid'))\n",
        "\n",
        "    model.add(Dense(num_classes))\n",
        "\n",
        "    def predict(x):\n",
        "        # 진짜 클래스에 대한 확률 분포를 진짜 대 가짜의 이진 확률로 변환합니다.\n",
        "        prediction = 1.0 - (1.0 / (K.sum(K.exp(x), axis=-1, keepdims=True) + 1.0))\n",
        "        return prediction\n",
        "\n",
        "    # 앞서 정의한 진짜 대 가짜 확률을 출력하는 뉴런\n",
        "    model.add(Lambda(predict))\n",
        "\n",
        "    return model"
      ]
    },
    {
      "cell_type": "markdown",
      "metadata": {
        "id": "3g1t9cHKCUCe"
      },
      "source": [
        "## 모델 구성"
      ]
    },
    {
      "cell_type": "code",
      "execution_count": 9,
      "metadata": {
        "id": "XJMkjCNNCUCe"
      },
      "outputs": [],
      "source": [
        "# def build_gan(generator, discriminator):\n",
        "\n",
        "#     model = Sequential()\n",
        "\n",
        "#     # 생성자와 판별자 모델을 연결하기\n",
        "#     model.add(generator)\n",
        "#     model.add(discriminator)\n",
        "\n",
        "#     return model"
      ]
    },
    {
      "cell_type": "markdown",
      "metadata": {
        "id": "4kvzhVU0CUCe"
      },
      "source": [
        "### 판별자"
      ]
    },
    {
      "cell_type": "code",
      "execution_count": 10,
      "metadata": {
        "id": "4Vp0T0X5CUCe",
        "colab": {
          "base_uri": "https://localhost:8080/"
        },
        "outputId": "46853bf6-c8b3-43c2-c7ab-7b2c9624b5b8"
      },
      "outputs": [
        {
          "output_type": "stream",
          "name": "stdout",
          "text": [
            "Model: \"sequential_1\"\n",
            "_________________________________________________________________\n",
            " Layer (type)                Output Shape              Param #   \n",
            "=================================================================\n",
            " sequential (Sequential)     (None, 2048)              92672     \n",
            "                                                                 \n",
            " dense (Dense)               (None, 10)                20490     \n",
            "                                                                 \n",
            " activation (Activation)     (None, 10)                0         \n",
            "                                                                 \n",
            "=================================================================\n",
            "Total params: 113,162\n",
            "Trainable params: 113,162\n",
            "Non-trainable params: 0\n",
            "_________________________________________________________________\n",
            "Model: \"sequential_2\"\n",
            "_________________________________________________________________\n",
            " Layer (type)                Output Shape              Param #   \n",
            "=================================================================\n",
            " sequential (Sequential)     (None, 2048)              92672     \n",
            "                                                                 \n",
            " dense_1 (Dense)             (None, 10)                20490     \n",
            "                                                                 \n",
            " lambda (Lambda)             (None, 1)                 0         \n",
            "                                                                 \n",
            "=================================================================\n",
            "Total params: 113,162\n",
            "Trainable params: 113,162\n",
            "Non-trainable params: 0\n",
            "_________________________________________________________________\n"
          ]
        }
      ],
      "source": [
        "discriminator_net = build_discriminator_net(img_shape)\n",
        "discriminator_supervised = build_discriminator_supervised(discriminator_net)\n",
        "discriminator_supervised.compile(loss='categorical_crossentropy', metrics=['accuracy'], optimizer=Adam(learning_rate=0.0003))\n",
        "\n",
        "discriminator_unsupervised = build_discriminator_unsupervised(discriminator_net)\n",
        "discriminator_unsupervised.compile(loss='binary_crossentropy', optimizer=Adam())\n",
        "\n",
        "discriminator_supervised.summary()\n",
        "discriminator_unsupervised.summary()"
      ]
    },
    {
      "cell_type": "markdown",
      "metadata": {
        "id": "ZsdB7aFkCUCe"
      },
      "source": [
        "### 생성자"
      ]
    },
    {
      "cell_type": "code",
      "execution_count": 11,
      "metadata": {
        "id": "HjyDCLHvCUCe"
      },
      "outputs": [],
      "source": [
        "# 생성자를 만듭니다.\n",
        "import tensorflow as tf\n",
        "generator = build_generator(z_dim)\n",
        "optimizer_g = tf.keras.optimizers.Adam()\n",
        "train_loss = tf.keras.metrics.Mean()\n",
        "\n",
        "@tf.function\n",
        "def train_step(z, real):\n",
        "    with tf.GradientTape() as tape:\n",
        "        gen_imgs = generator(z)\n",
        "        pred = discriminator_unsupervised(gen_imgs) # or discriminator_supervised?\n",
        "        loss = tf.keras.losses.binary_crossentropy(real, pred) #? real or fake?\n",
        "\n",
        "    gradients = tape.gradient(loss, generator.trainable_variables)\n",
        "    optimizer_g.apply_gradients(zip(gradients, generator.trainable_variables))\n",
        "\n",
        "    train_loss(loss)\n",
        "    g_loss = train_loss.result()\n",
        "    \n",
        "    return gen_imgs, g_loss\n",
        "\n",
        "# generator = build_generator(z_dim)\n",
        "\n",
        "# # 생성자 훈련을 위해 판별자의 모델 파라미터를 동결합니다.\n",
        "# discriminator_unsupervised.trainable = False\n",
        "\n",
        "# # 생성자를 훈련하기 위해 고정된 판별자로 GAN 모델을 만들고 컴파일합니다.\n",
        "# # 노트: 비지도 학습용 판별자를 사용하세요.\n",
        "# gan = build_gan(generator, discriminator_unsupervised)\n",
        "# gan.compile(loss='binary_crossentropy', optimizer=Adam())"
      ]
    },
    {
      "cell_type": "markdown",
      "metadata": {
        "id": "_SkyHoMhCUCf"
      },
      "source": [
        "## 훈련"
      ]
    },
    {
      "cell_type": "code",
      "execution_count": 12,
      "metadata": {
        "id": "lOsI6htfCUCf"
      },
      "outputs": [],
      "source": [
        "supervised_losses = []\n",
        "unsupervised_losses = []\n",
        "gen_losses = []\n",
        "iteration_checkpoints = []\n",
        "\n",
        "\n",
        "def train(iterations, batch_size, sample_interval):\n",
        "\n",
        "    real = np.ones((batch_size, 1))\n",
        "    fake = np.zeros((batch_size, 1))\n",
        "\n",
        "    for iteration in range(iterations):\n",
        "        imgs, labels = dataset.batch_labeled(batch_size)\n",
        "\n",
        "        labels = to_categorical(labels, num_classes=num_classes)\n",
        "        imgs_unlabeled = dataset.batch_unlabeled(batch_size)\n",
        "\n",
        "        z = np.random.normal(0, 1, (batch_size, z_dim))\n",
        "        # gen_imgs = generator.predict(z)\n",
        "        gen_imgs, g_loss = train_step(z, real)\n",
        "\n",
        "        d_loss_supervised, accuracy = discriminator_supervised.train_on_batch(imgs, labels)\n",
        "\n",
        "        # d_loss_real = discriminator_unsupervised.train_on_batch(imgs_unlabeled, real)\n",
        "        # d_loss_fake = discriminator_unsupervised.train_on_batch(gen_imgs, fake)\n",
        "\n",
        "        # d_loss_unsupervised = 0.5 * np.add(d_loss_real, d_loss_fake)\n",
        "\n",
        "        # ---------------------\n",
        "        #  생성자 훈련\u001e\n",
        "        # ---------------------\n",
        "\n",
        "        # 가짜 이미지의 배치를 생성합니다.\n",
        "        # z = np.random.normal(0, 1, (batch_size, z_dim))\n",
        "        # gen_imgs = generator.predict(z)\n",
        "\n",
        "        # 생성자를 훈련합니다.\n",
        "        # g_loss = gan.train_on_batch(z, np.ones((batch_size, 1)))\n",
        "\n",
        "        if (iteration + 1) % sample_interval == 0:\n",
        "\n",
        "            # 훈련이 끝난 후 그래프를 그리기 위해 판별자의 지도 학습 분류 손실을 기록합니다.\n",
        "            supervised_losses.append(d_loss_supervised)\n",
        "            # unsupervised_losses.append(d_loss_unsupervised)\n",
        "            gen_losses.append(g_loss)\n",
        "            iteration_checkpoints.append(iteration + 1)\n",
        "\n",
        "            # 훈련 과정을 출력합니다.\n",
        "            # print(\n",
        "            #     \"%d [D loss supervised: %.4f, acc.: %.2f%%] [D loss unsupervised: %.4f] [G loss: %f]\"\n",
        "            #     % (iteration + 1, d_loss_supervised, 100 * accuracy,\n",
        "            #        d_loss_unsupervised, g_loss))\n",
        "            print(\n",
        "                \"%d [D loss supervised: %.4f, acc.: %.2f%%] [G loss: %f]\"\n",
        "                % (iteration + 1, d_loss_supervised, 100 * accuracy, g_loss))\n",
        " "
      ]
    },
    {
      "cell_type": "markdown",
      "metadata": {
        "id": "Fy5892ZuCUCf"
      },
      "source": [
        "## 모델 훈련과 출력 조사"
      ]
    },
    {
      "cell_type": "code",
      "execution_count": 13,
      "metadata": {
        "colab": {
          "base_uri": "https://localhost:8080/"
        },
        "id": "9J7305B3CUCf",
        "outputId": "902e3468-6a84-4422-e8f5-4ce6779f7414",
        "scrolled": true
      },
      "outputs": [
        {
          "output_type": "stream",
          "name": "stdout",
          "text": [
            "800 [D loss supervised: 0.0097, acc.: 100.00%] [G loss: 0.007831]\n",
            "1600 [D loss supervised: 0.0001, acc.: 100.00%] [G loss: 0.003916]\n",
            "2400 [D loss supervised: 0.0001, acc.: 100.00%] [G loss: 0.002611]\n",
            "3200 [D loss supervised: 0.0001, acc.: 100.00%] [G loss: 0.001958]\n",
            "4000 [D loss supervised: 0.0001, acc.: 100.00%] [G loss: 0.001566]\n",
            "4800 [D loss supervised: 0.0000, acc.: 100.00%] [G loss: 0.001305]\n",
            "5600 [D loss supervised: 0.0000, acc.: 100.00%] [G loss: 0.001119]\n",
            "6400 [D loss supervised: 0.0000, acc.: 100.00%] [G loss: 0.000979]\n",
            "7200 [D loss supervised: 0.0000, acc.: 100.00%] [G loss: 0.000870]\n",
            "8000 [D loss supervised: 0.0001, acc.: 100.00%] [G loss: 0.000783]\n"
          ]
        }
      ],
      "source": [
        "iterations = 8000\n",
        "batch_size = 32\n",
        "sample_interval = 800\n",
        "\n",
        "train(iterations, batch_size, sample_interval)"
      ]
    },
    {
      "cell_type": "code",
      "execution_count": 14,
      "metadata": {
        "id": "h92u9tEzCUCg",
        "colab": {
          "base_uri": "https://localhost:8080/",
          "height": 556
        },
        "outputId": "9a86be85-0a06-493e-bab1-f1fee256f347"
      },
      "outputs": [
        {
          "output_type": "display_data",
          "data": {
            "text/plain": [
              "<Figure size 1080x360 with 1 Axes>"
            ],
            "image/png": "[encoded data removed]"
          },
          "metadata": {
            "needs_background": "light"
          }
        },
        {
          "output_type": "display_data",
          "data": {
            "text/plain": [
              "<Figure size 1080x360 with 1 Axes>"
            ],
            "image/png": "[encoded data removed]"
          },
          "metadata": {
            "needs_background": "light"
          }
        }
      ],
      "source": [
        "plt.figure(figsize=(15, 5))\n",
        "plt.plot(iteration_checkpoints, np.array(supervised_losses), label=\"supervised loss\")\n",
        "# plt.plot(iteration_checkpoints, np.array(unsupervised_losses), label=\"unsupervised loss\")\n",
        "plt.xticks(iteration_checkpoints, rotation=90)\n",
        "plt.title(\"Discriminator – Loss\")\n",
        "# plt.xlabel(\"Iteration\")\n",
        "plt.ylabel(\"Loss\")\n",
        "plt.legend()\n",
        "plt.show()\n",
        "\n",
        "plt.figure(figsize=(15, 5))\n",
        "plt.plot(iteration_checkpoints, np.array(gen_losses), label=\"gen loss\")\n",
        "plt.xlabel(\"Iteration\")\n",
        "plt.ylabel(\"Loss\")\n",
        "plt.legend()\n",
        "plt.show()\n"
      ]
    },
    {
      "cell_type": "markdown",
      "metadata": {
        "id": "b5zD1QwrCUCh"
      },
      "source": [
        "## SGAN 분류기 – 훈련 세트와 테스트 세트 정확도"
      ]
    },
    {
      "cell_type": "code",
      "execution_count": 15,
      "metadata": {
        "id": "ajShPxUjCUCh",
        "colab": {
          "base_uri": "https://localhost:8080/"
        },
        "outputId": "a0e485c6-7089-4ed7-d431-5b6e1eb4f37c"
      },
      "outputs": [
        {
          "output_type": "stream",
          "name": "stdout",
          "text": [
            "4/4 [==============================] - 0s 12ms/step - loss: 4.0531e-07 - accuracy: 1.0000\n",
            "Training Accuracy: 100.00%\n"
          ]
        }
      ],
      "source": [
        "x, y = dataset.training_set()\n",
        "y = to_categorical(y, num_classes=num_classes)\n",
        "\n",
        "_, accuracy = discriminator_supervised.evaluate(x, y)\n",
        "print(\"Training Accuracy: %.2f%%\" % (100 * accuracy))"
      ]
    },
    {
      "cell_type": "code",
      "execution_count": 16,
      "metadata": {
        "id": "sVJlwLDdCUCh",
        "colab": {
          "base_uri": "https://localhost:8080/"
        },
        "outputId": "01e6db08-daac-4a17-c063-b7c8bd3a8e7a"
      },
      "outputs": [
        {
          "output_type": "stream",
          "name": "stdout",
          "text": [
            "313/313 [==============================] - 1s 3ms/step - loss: 2.8434 - accuracy: 0.6983\n",
            "Test Accuracy: 69.83%\n"
          ]
        }
      ],
      "source": [
        "x, y = dataset.test_set()\n",
        "y = to_categorical(y, num_classes=num_classes)\n",
        "\n",
        "_, accuracy = discriminator_supervised.evaluate(x, y)\n",
        "print(\"Test Accuracy: %.2f%%\" % (100 * accuracy))"
      ]
    },
    {
      "cell_type": "markdown",
      "metadata": {
        "id": "FZ2uciaRCUCh"
      },
      "source": [
        "# 완전히 지도 학습으로 훈련된 분류기"
      ]
    },
    {
      "cell_type": "code",
      "execution_count": 17,
      "metadata": {
        "id": "Uf-efoiDCUCi"
      },
      "outputs": [],
      "source": [
        "# SGAN 판별자와 같은 네트워크 구조를 가진 지도 학습 분류기\n",
        "mnist_classifier = build_discriminator_supervised(build_discriminator_net(img_shape))\n",
        "mnist_classifier.compile(loss='categorical_crossentropy', metrics=['accuracy'], optimizer=Adam())"
      ]
    },
    {
      "cell_type": "code",
      "execution_count": 18,
      "metadata": {
        "id": "_V-rV4SqCUCi",
        "colab": {
          "base_uri": "https://localhost:8080/"
        },
        "outputId": "4c9c40a1-51f8-405b-878c-a75fdf1f8e2a"
      },
      "outputs": [
        {
          "output_type": "stream",
          "name": "stdout",
          "text": [
            "Epoch 1/30\n",
            "4/4 [==============================] - 0s 21ms/step - loss: 2.3116 - accuracy: 0.1000\n",
            "Epoch 2/30\n",
            "4/4 [==============================] - 0s 4ms/step - loss: 2.2220 - accuracy: 0.2800\n",
            "Epoch 3/30\n",
            "4/4 [==============================] - 0s 5ms/step - loss: 2.1719 - accuracy: 0.3800\n",
            "Epoch 4/30\n",
            "4/4 [==============================] - 0s 4ms/step - loss: 2.0847 - accuracy: 0.4500\n",
            "Epoch 5/30\n",
            "4/4 [==============================] - 0s 5ms/step - loss: 1.9582 - accuracy: 0.4800\n",
            "Epoch 6/30\n",
            "4/4 [==============================] - 0s 4ms/step - loss: 1.7585 - accuracy: 0.4800\n",
            "Epoch 7/30\n",
            "4/4 [==============================] - 0s 4ms/step - loss: 1.5881 - accuracy: 0.5900\n",
            "Epoch 8/30\n",
            "4/4 [==============================] - 0s 5ms/step - loss: 1.2891 - accuracy: 0.7200\n",
            "Epoch 9/30\n",
            "4/4 [==============================] - 0s 4ms/step - loss: 1.0220 - accuracy: 0.7900\n",
            "Epoch 10/30\n",
            "4/4 [==============================] - 0s 4ms/step - loss: 0.8842 - accuracy: 0.7500\n",
            "Epoch 11/30\n",
            "4/4 [==============================] - 0s 4ms/step - loss: 0.6221 - accuracy: 0.8500\n",
            "Epoch 12/30\n",
            "4/4 [==============================] - 0s 5ms/step - loss: 0.4727 - accuracy: 0.9000\n",
            "Epoch 13/30\n",
            "4/4 [==============================] - 0s 4ms/step - loss: 0.4455 - accuracy: 0.8600\n",
            "Epoch 14/30\n",
            "4/4 [==============================] - 0s 4ms/step - loss: 0.3205 - accuracy: 0.9100\n",
            "Epoch 15/30\n",
            "4/4 [==============================] - 0s 6ms/step - loss: 0.2932 - accuracy: 0.9200\n",
            "Epoch 16/30\n",
            "4/4 [==============================] - 0s 4ms/step - loss: 0.2600 - accuracy: 0.9000\n",
            "Epoch 17/30\n",
            "4/4 [==============================] - 0s 7ms/step - loss: 0.2220 - accuracy: 0.9200\n",
            "Epoch 18/30\n",
            "4/4 [==============================] - 0s 4ms/step - loss: 0.1666 - accuracy: 0.9400\n",
            "Epoch 19/30\n",
            "4/4 [==============================] - 0s 4ms/step - loss: 0.1059 - accuracy: 0.9700\n",
            "Epoch 20/30\n",
            "4/4 [==============================] - 0s 5ms/step - loss: 0.1034 - accuracy: 0.9800\n",
            "Epoch 21/30\n",
            "4/4 [==============================] - 0s 4ms/step - loss: 0.1169 - accuracy: 0.9800\n",
            "Epoch 22/30\n",
            "4/4 [==============================] - 0s 4ms/step - loss: 0.1007 - accuracy: 0.9800\n",
            "Epoch 23/30\n",
            "4/4 [==============================] - 0s 4ms/step - loss: 0.0797 - accuracy: 0.9800\n",
            "Epoch 24/30\n",
            "4/4 [==============================] - 0s 5ms/step - loss: 0.0599 - accuracy: 0.9900\n",
            "Epoch 25/30\n",
            "4/4 [==============================] - 0s 5ms/step - loss: 0.0794 - accuracy: 0.9800\n",
            "Epoch 26/30\n",
            "4/4 [==============================] - 0s 6ms/step - loss: 0.0549 - accuracy: 0.9900\n",
            "Epoch 27/30\n",
            "4/4 [==============================] - 0s 4ms/step - loss: 0.0452 - accuracy: 0.9900\n",
            "Epoch 28/30\n",
            "4/4 [==============================] - 0s 4ms/step - loss: 0.0630 - accuracy: 0.9800\n",
            "Epoch 29/30\n",
            "4/4 [==============================] - 0s 4ms/step - loss: 0.0545 - accuracy: 0.9900\n",
            "Epoch 30/30\n",
            "4/4 [==============================] - 0s 4ms/step - loss: 0.0275 - accuracy: 1.0000\n"
          ]
        }
      ],
      "source": [
        "imgs, labels = dataset.training_set()\n",
        "\n",
        "# 레이블을 원-핫 인코딩합니다.\n",
        "labels = to_categorical(labels, num_classes=num_classes)\n",
        "\n",
        "training = mnist_classifier.fit(x=imgs, y=labels, batch_size=32, epochs=30, verbose=1)\n",
        "losses = training.history['loss']\n",
        "accuracies = training.history['accuracy']"
      ]
    },
    {
      "cell_type": "code",
      "execution_count": 19,
      "metadata": {
        "id": "NCLm27uFCUCi",
        "colab": {
          "base_uri": "https://localhost:8080/",
          "height": 336
        },
        "outputId": "9e4804c4-a9ae-46b2-ed2c-48aa7f745f37"
      },
      "outputs": [
        {
          "output_type": "display_data",
          "data": {
            "text/plain": [
              "<Figure size 720x360 with 1 Axes>"
            ],
            "image/png": "[encoded data removed]"
          },
          "metadata": {
            "needs_background": "light"
          }
        }
      ],
      "source": [
        "plt.figure(figsize=(10, 5))\n",
        "plt.plot(np.array(losses), label=\"Loss\")\n",
        "plt.title(\"Classification Loss\")\n",
        "plt.legend()\n",
        "plt.show()"
      ]
    },
    {
      "cell_type": "code",
      "execution_count": 20,
      "metadata": {
        "id": "bdmZTbHnCUCi",
        "colab": {
          "base_uri": "https://localhost:8080/",
          "height": 336
        },
        "outputId": "e8a6a74f-850d-4554-a23f-fe12d998de87"
      },
      "outputs": [
        {
          "output_type": "display_data",
          "data": {
            "text/plain": [
              "<Figure size 720x360 with 1 Axes>"
            ],
            "image/png": "[encoded data removed]"
          },
          "metadata": {
            "needs_background": "light"
          }
        }
      ],
      "source": [
        "plt.figure(figsize=(10, 5))\n",
        "plt.plot(np.array(accuracies), label=\"Accuracy\")\n",
        "plt.title(\"Classification Accuracy\")\n",
        "plt.legend()\n",
        "plt.show()"
      ]
    },
    {
      "cell_type": "code",
      "execution_count": 21,
      "metadata": {
        "id": "UAevicZSCUCi",
        "colab": {
          "base_uri": "https://localhost:8080/"
        },
        "outputId": "cc0298d6-58c0-4244-fe44-1ed5e5a02d24"
      },
      "outputs": [
        {
          "output_type": "stream",
          "name": "stdout",
          "text": [
            "4/4 [==============================] - 0s 4ms/step - loss: 0.0299 - accuracy: 0.9900\n",
            "Training Accuracy: 99.00%\n"
          ]
        }
      ],
      "source": [
        "x, y = dataset.training_set()\n",
        "y = to_categorical(y, num_classes=num_classes)\n",
        "\n",
        "# 훈련 세트에 대한 분류 정확도를 계산합니다.\n",
        "_, accuracy = mnist_classifier.evaluate(x, y)\n",
        "print(\"Training Accuracy: %.2f%%\" % (100 * accuracy))"
      ]
    },
    {
      "cell_type": "code",
      "execution_count": 22,
      "metadata": {
        "id": "o02hr24eCUCi",
        "colab": {
          "base_uri": "https://localhost:8080/"
        },
        "outputId": "87cd088c-06e5-4b03-8b7d-9529bba172c3"
      },
      "outputs": [
        {
          "output_type": "stream",
          "name": "stdout",
          "text": [
            "313/313 [==============================] - 1s 3ms/step - loss: 1.3543 - accuracy: 0.6631\n",
            "Test Accuracy: 66.31%\n"
          ]
        }
      ],
      "source": [
        "x, y = dataset.test_set()\n",
        "y = to_categorical(y, num_classes=num_classes)\n",
        "\n",
        "# 테스트 세트에 대한 분류 정확도를 계산합니다.\n",
        "_, accuracy = mnist_classifier.evaluate(x, y)\n",
        "print(\"Test Accuracy: %.2f%%\" % (100 * accuracy))"
      ]
    },
    {
      "cell_type": "code",
      "source": [
        ""
      ],
      "metadata": {
        "id": "iWXTL0yLcrLx"
      },
      "execution_count": 22,
      "outputs": []
    }
  ],
  "metadata": {
    "colab": {
      "name": "Chapter_7_SGAN(edited_without_Unsupervised)",
      "provenance": [],
      "collapsed_sections": [],
      "include_colab_link": true
    },
    "kernelspec": {
      "display_name": "TensorFlow 2.3 on Python 3.6 (CUDA 10.1)",
      "language": "python",
      "name": "python3"
    },
    "language_info": {
      "codemirror_mode": {
        "name": "ipython",
        "version": 3
      },
      "file_extension": ".py",
      "mimetype": "text/x-python",
      "name": "python",
      "nbconvert_exporter": "python",
      "pygments_lexer": "ipython3",
      "version": "3.7.7"
    },
    "accelerator": "GPU"
  },
  "nbformat": 4,
  "nbformat_minor": 0
}