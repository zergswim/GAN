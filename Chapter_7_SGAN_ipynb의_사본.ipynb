{
  "cells": [
    {
      "cell_type": "markdown",
      "metadata": {
        "id": "view-in-github",
        "colab_type": "text"
      },
      "source": [
        "<a href=\"https://colab.research.google.com/github/zergswim/GAN/blob/main/Chapter_7_SGAN_ipynb%EC%9D%98_%EC%82%AC%EB%B3%B8.ipynb\" target=\"_parent\"><img src=\"https://colab.research.google.com/assets/colab-badge.svg\" alt=\"Open In Colab\"/></a>"
      ]
    },
    {
      "cell_type": "markdown",
      "metadata": {
        "id": "Sgta16A7CUCW"
      },
      "source": [
        "# 7장: SGAN"
      ]
    },
    {
      "cell_type": "markdown",
      "metadata": {
        "id": "wGWR9bzYCUCa"
      },
      "source": [
        "<table align=\"left\">\n",
        "  <td>\n",
        "    <a target=\"_blank\" href=\"https://colab.research.google.com/github/rickiepark/gans-in-action/blob/master/chapter-7/Chapter_7_SGAN.ipynb\"><img src=\"https://www.tensorflow.org/images/colab_logo_32px.png\" />구글 코랩에서 실행하기</a>\n",
        "  </td>\n",
        "</table>"
      ]
    },
    {
      "cell_type": "code",
      "execution_count": null,
      "metadata": {
        "id": "fMfOE4pUCUCb"
      },
      "outputs": [],
      "source": [
        "%matplotlib inline\n",
        "\n",
        "import matplotlib.pyplot as plt\n",
        "import numpy as np\n",
        "\n",
        "from tensorflow.keras import backend as K\n",
        "\n",
        "from tensorflow.keras.datasets import mnist\n",
        "from tensorflow.keras.layers import (Activation, BatchNormalization, Concatenate, Dense,\n",
        "                                     Dropout, Flatten, Input, Lambda, Reshape)\n",
        "from tensorflow.keras.layers import LeakyReLU\n",
        "from tensorflow.keras.layers import Conv2D, Conv2DTranspose\n",
        "from tensorflow.keras.models import Model, Sequential\n",
        "from tensorflow.keras.optimizers import Adam\n",
        "from tensorflow.keras.utils import to_categorical"
      ]
    },
    {
      "cell_type": "markdown",
      "metadata": {
        "id": "_4FgnWooCUCb"
      },
      "source": [
        "## 데이터셋"
      ]
    },
    {
      "cell_type": "code",
      "execution_count": null,
      "metadata": {
        "id": "rOmpG7_ZCUCb"
      },
      "outputs": [],
      "source": [
        "class Dataset:\n",
        "    def __init__(self, num_labeled):\n",
        "\n",
        "        # 훈련에 사용할 레이블된 샘플 개수\n",
        "        self.num_labeled = num_labeled\n",
        "\n",
        "        # MNIST 데이터셋 적재\n",
        "        (self.x_train, self.y_train), (self.x_test,\n",
        "                                       self.y_test) = mnist.load_data()\n",
        "\n",
        "        def preprocess_imgs(x):\n",
        "            # [0, 255] 사이 흑백 픽셀 값을 [–1, 1] 사이로 변환\n",
        "            x = (x.astype(np.float32) - 127.5) / 127.5\n",
        "            # 너비 × 높이 × 채널로 이미지 차원을 확장\n",
        "            x = np.expand_dims(x, axis=3)\n",
        "            return x\n",
        "\n",
        "        def preprocess_labels(y):\n",
        "            return y.reshape(-1, 1)\n",
        "\n",
        "        # 훈련 데이터\n",
        "        self.x_train = preprocess_imgs(self.x_train)\n",
        "        self.y_train = preprocess_labels(self.y_train)\n",
        "\n",
        "        # 테스트 데이터\n",
        "        self.x_test = preprocess_imgs(self.x_test)\n",
        "        self.y_test = preprocess_labels(self.y_test)\n",
        "\n",
        "    def batch_labeled(self, batch_size):\n",
        "        # 레이블된 이미지와 레이블의 랜덤 배치 만들기\n",
        "        idx = np.random.randint(0, self.num_labeled, batch_size)\n",
        "        imgs = self.x_train[idx]\n",
        "        labels = self.y_train[idx]\n",
        "        return imgs, labels\n",
        "\n",
        "    def batch_unlabeled(self, batch_size):\n",
        "        # 레이블이 없는 이미지의 랜덤 배치 만들기\n",
        "        idx = np.random.randint(self.num_labeled, self.x_train.shape[0],\n",
        "                                batch_size)\n",
        "        imgs = self.x_train[idx]\n",
        "        return imgs\n",
        "\n",
        "    def training_set(self):\n",
        "        x_train = self.x_train[range(self.num_labeled)]\n",
        "        y_train = self.y_train[range(self.num_labeled)]\n",
        "        return x_train, y_train\n",
        "\n",
        "    def test_set(self):\n",
        "        return self.x_test, self.y_test"
      ]
    },
    {
      "cell_type": "code",
      "execution_count": null,
      "metadata": {
        "id": "BcElbU6SCUCc"
      },
      "outputs": [],
      "source": [
        "# 사용할 레이블된 샘플 개수 (나머지는 레이블없이 사용합니다)\n",
        "num_labeled = 100\n",
        "\n",
        "dataset = Dataset(num_labeled)"
      ]
    },
    {
      "cell_type": "markdown",
      "metadata": {
        "id": "O9UQJrdTCUCc"
      },
      "source": [
        "# SGAN"
      ]
    },
    {
      "cell_type": "code",
      "execution_count": null,
      "metadata": {
        "id": "TTpjfRu3CUCc"
      },
      "outputs": [],
      "source": [
        "img_rows = 28\n",
        "img_cols = 28\n",
        "channels = 1\n",
        "\n",
        "# 입력 이미지 차원\n",
        "img_shape = (img_rows, img_cols, channels)\n",
        "\n",
        "# 생성자의 입력으로 사용할 잡음 벡터의 크기\n",
        "z_dim = 100\n",
        "\n",
        "# 데이터셋에 있는 클래스 개수\n",
        "num_classes = 10"
      ]
    },
    {
      "cell_type": "markdown",
      "metadata": {
        "id": "pIst7kenCUCc"
      },
      "source": [
        "## 생성자"
      ]
    },
    {
      "cell_type": "code",
      "execution_count": null,
      "metadata": {
        "id": "4WzMJ065CUCd"
      },
      "outputs": [],
      "source": [
        "def build_generator(z_dim):\n",
        "\n",
        "    model = Sequential()\n",
        "\n",
        "    # 완전 연결 층을 사용해 입력을 7 × 7 × 256 크기 텐서로 바꿉니다.\n",
        "    model.add(Dense(256 * 7 * 7, input_dim=z_dim))\n",
        "    model.add(Reshape((7, 7, 256)))\n",
        "\n",
        "    # 7 × 7 × 256에서 14 × 14 × 128 텐서로 바꾸는 전치 합성곱 층\n",
        "    model.add(Conv2DTranspose(128, kernel_size=3, strides=2, padding='same'))\n",
        "\n",
        "    # 배치 정규화\n",
        "    model.add(BatchNormalization())\n",
        "\n",
        "    # LeakyReLU 활성화 함수\n",
        "    model.add(LeakyReLU(alpha=0.01))\n",
        "\n",
        "    # 14 × 14 × 128에서 14 × 14 × 64 텐서로 바꾸는 전치 합성곱 층\n",
        "    model.add(Conv2DTranspose(64, kernel_size=3, strides=1, padding='same'))\n",
        "\n",
        "    # 배치 정규화\n",
        "    model.add(BatchNormalization())\n",
        "\n",
        "    # LeakyReLU 활성화 함수\n",
        "    model.add(LeakyReLU(alpha=0.01))\n",
        "\n",
        "    # 14 × 14 × 64에서 28 × 28 × 1 텐서로 바꾸는 전치 합성곱 층\n",
        "    model.add(Conv2DTranspose(1, kernel_size=3, strides=2, padding='same'))\n",
        "\n",
        "    # tanh 활성화 함수\n",
        "    model.add(Activation('tanh'))\n",
        "\n",
        "    return model"
      ]
    },
    {
      "cell_type": "markdown",
      "metadata": {
        "id": "2MJeqmKHCUCd"
      },
      "source": [
        "## 판별자"
      ]
    },
    {
      "cell_type": "code",
      "execution_count": null,
      "metadata": {
        "id": "zYpCZ5fOCUCd"
      },
      "outputs": [],
      "source": [
        "def build_discriminator_net(img_shape):\n",
        "\n",
        "    model = Sequential()\n",
        "\n",
        "    # 28 × 28 × 1에서 14 × 14 × 32 텐서로 바꾸는 합성곱 층\n",
        "    model.add(\n",
        "        Conv2D(32,\n",
        "               kernel_size=3,\n",
        "               strides=2,\n",
        "               input_shape=img_shape,\n",
        "               padding='same'))\n",
        "\n",
        "    # LeakyReLU 활성화 함수\n",
        "    model.add(LeakyReLU(alpha=0.01))\n",
        "\n",
        "    # 14 × 14 × 32에서 7 × 7 × 64 텐서로 바꾸는 합성곱 층\n",
        "    model.add(\n",
        "        Conv2D(64,\n",
        "               kernel_size=3,\n",
        "               strides=2,\n",
        "               padding='same'))\n",
        "    \n",
        "    # LeakyReLU 활성화 함수\n",
        "    model.add(LeakyReLU(alpha=0.01))\n",
        "\n",
        "    # 7 × 7 × 64에서 3 × 3 × 128 텐서로 바꾸는 합성곱 층\n",
        "    model.add(\n",
        "        Conv2D(128,\n",
        "               kernel_size=3,\n",
        "               strides=2,\n",
        "               padding='same'))\n",
        "    \n",
        "    # LeakyReLU 활성화 함수\n",
        "    model.add(LeakyReLU(alpha=0.01))\n",
        "\n",
        "    # 드롭아웃\n",
        "    model.add(Dropout(0.5))\n",
        "\n",
        "    # 텐서 펼치기\n",
        "    model.add(Flatten())\n",
        "\n",
        "    # num_classes 개의 뉴런을 가진 완전 연결 층\n",
        "    model.add(Dense(num_classes))\n",
        "\n",
        "    return model"
      ]
    },
    {
      "cell_type": "code",
      "execution_count": null,
      "metadata": {
        "id": "wcIsVDTgCUCd"
      },
      "outputs": [],
      "source": [
        "def build_discriminator_supervised(discriminator_net):\n",
        "\n",
        "    model = Sequential()\n",
        "\n",
        "    model.add(discriminator_net)\n",
        "\n",
        "    # 진짜 클래스에 대한 예측 확률을 출력하는 소프트맥스 활성화 함수\n",
        "    model.add(Activation('softmax'))\n",
        "\n",
        "    return model"
      ]
    },
    {
      "cell_type": "code",
      "execution_count": null,
      "metadata": {
        "id": "_IVe9hFvCUCd"
      },
      "outputs": [],
      "source": [
        "def build_discriminator_unsupervised(discriminator_net):\n",
        "\n",
        "    model = Sequential()\n",
        "\n",
        "    model.add(discriminator_net)\n",
        "\n",
        "    def predict(x):\n",
        "        # 진짜 클래스에 대한 확률 분포를 진짜 대 가짜의 이진 확률로 변환합니다.\n",
        "        prediction = 1.0 - (1.0 /\n",
        "                            (K.sum(K.exp(x), axis=-1, keepdims=True) + 1.0))\n",
        "        return prediction\n",
        "\n",
        "    # 앞서 정의한 진짜 대 가짜 확률을 출력하는 뉴런\n",
        "    model.add(Lambda(predict))\n",
        "\n",
        "    return model"
      ]
    },
    {
      "cell_type": "markdown",
      "metadata": {
        "id": "3g1t9cHKCUCe"
      },
      "source": [
        "## 모델 구성"
      ]
    },
    {
      "cell_type": "code",
      "execution_count": null,
      "metadata": {
        "id": "XJMkjCNNCUCe"
      },
      "outputs": [],
      "source": [
        "def build_gan(generator, discriminator):\n",
        "\n",
        "    model = Sequential()\n",
        "\n",
        "    # 생성자와 판별자 모델을 연결하기\n",
        "    model.add(generator)\n",
        "    model.add(discriminator)\n",
        "\n",
        "    return model"
      ]
    },
    {
      "cell_type": "markdown",
      "metadata": {
        "id": "4kvzhVU0CUCe"
      },
      "source": [
        "### 판별자"
      ]
    },
    {
      "cell_type": "code",
      "execution_count": null,
      "metadata": {
        "id": "4Vp0T0X5CUCe"
      },
      "outputs": [],
      "source": [
        "# 판별자 기반 모델: 이 층들은 지도 학습 훈련과 비지도 학습 훈련에 공유됩니다.\n",
        "discriminator_net = build_discriminator_net(img_shape)\n",
        "\n",
        "# 지도 학습 훈련을 위해 판별자를 만들고 컴파일합니다.\n",
        "discriminator_supervised = build_discriminator_supervised(discriminator_net)\n",
        "discriminator_supervised.compile(loss='categorical_crossentropy',\n",
        "                                 metrics=['accuracy'],\n",
        "                                 optimizer=Adam(learning_rate=0.0003))\n",
        "\n",
        "# 비지도 학습 훈련을 위해 판별자를 만들고 컴파일합니다.\n",
        "discriminator_unsupervised = build_discriminator_unsupervised(discriminator_net)\n",
        "discriminator_unsupervised.compile(loss='binary_crossentropy',\n",
        "                                   optimizer=Adam())"
      ]
    },
    {
      "cell_type": "markdown",
      "metadata": {
        "id": "ZsdB7aFkCUCe"
      },
      "source": [
        "### 생성자"
      ]
    },
    {
      "cell_type": "code",
      "execution_count": null,
      "metadata": {
        "id": "HjyDCLHvCUCe"
      },
      "outputs": [],
      "source": [
        "# 생성자를 만듭니다.\n",
        "generator = build_generator(z_dim)\n",
        "\n",
        "# 생성자 훈련을 위해 판별자의 모델 파라미터를 동결합니다.\n",
        "discriminator_unsupervised.trainable = False\n",
        "\n",
        "# 생성자를 훈련하기 위해 고정된 판별자로 GAN 모델을 만들고 컴파일합니다.\n",
        "# 노트: 비지도 학습용 판별자를 사용하세요.\n",
        "gan = build_gan(generator, discriminator_unsupervised)\n",
        "gan.compile(loss='binary_crossentropy', optimizer=Adam())"
      ]
    },
    {
      "cell_type": "markdown",
      "metadata": {
        "id": "_SkyHoMhCUCf"
      },
      "source": [
        "## 훈련"
      ]
    },
    {
      "cell_type": "code",
      "execution_count": null,
      "metadata": {
        "id": "lOsI6htfCUCf"
      },
      "outputs": [],
      "source": [
        "supervised_losses = []\n",
        "iteration_checkpoints = []\n",
        "\n",
        "\n",
        "def train(iterations, batch_size, sample_interval):\n",
        "\n",
        "    # 진짜 이미지의 레이블: 모두 1\n",
        "    real = np.ones((batch_size, 1))\n",
        "\n",
        "    # 가짜 이미지의 레이블: 모두 0\n",
        "    fake = np.zeros((batch_size, 1))\n",
        "\n",
        "    for iteration in range(iterations):\n",
        "\n",
        "        # -------------------------\n",
        "        #  판별자 훈련\n",
        "        # -------------------------\n",
        "\n",
        "        # 레이블된 샘플을 가져옵니다.\n",
        "        imgs, labels = dataset.batch_labeled(batch_size)\n",
        "\n",
        "        # 레이블을 원-핫 인코딩합니다.\n",
        "        labels = to_categorical(labels, num_classes=num_classes)\n",
        "\n",
        "        # 레이블이 없는 샘플을 가져옵니다.\n",
        "        imgs_unlabeled = dataset.batch_unlabeled(batch_size)\n",
        "\n",
        "        # 가짜 이미지의 배치를 생성합니다.\n",
        "        z = np.random.normal(0, 1, (batch_size, z_dim))\n",
        "        gen_imgs = generator.predict(z)\n",
        "\n",
        "        # 레이블된 진짜 샘플에서 훈련합니다.\n",
        "        d_loss_supervised, accuracy = discriminator_supervised.train_on_batch(imgs, labels)\n",
        "\n",
        "        # 레이블이 없는 진짜 샘플에서 훈련합니다.\n",
        "        d_loss_real = discriminator_unsupervised.train_on_batch(\n",
        "            imgs_unlabeled, real)\n",
        "\n",
        "        # 가짜 샘플에서 훈련합니다.\n",
        "        d_loss_fake = discriminator_unsupervised.train_on_batch(gen_imgs, fake)\n",
        "\n",
        "        d_loss_unsupervised = 0.5 * np.add(d_loss_real, d_loss_fake)\n",
        "\n",
        "        # ---------------------\n",
        "        #  생성자 훈련\u001e\n",
        "        # ---------------------\n",
        "\n",
        "        # 가짜 이미지의 배치를 생성합니다.\n",
        "        z = np.random.normal(0, 1, (batch_size, z_dim))\n",
        "        gen_imgs = generator.predict(z)\n",
        "\n",
        "        # 생성자를 훈련합니다.\n",
        "        g_loss = gan.train_on_batch(z, np.ones((batch_size, 1)))\n",
        "\n",
        "        if (iteration + 1) % sample_interval == 0:\n",
        "\n",
        "            # 훈련이 끝난 후 그래프를 그리기 위해 판별자의 지도 학습 분류 손실을 기록합니다.\n",
        "            supervised_losses.append(d_loss_supervised)\n",
        "            iteration_checkpoints.append(iteration + 1)\n",
        "\n",
        "            # 훈련 과정을 출력합니다.\n",
        "            print(\n",
        "                \"%d [D loss supervised: %.4f, acc.: %.2f%%] [D loss unsupervised: %.4f] [G loss: %f]\"\n",
        "                % (iteration + 1, d_loss_supervised, 100 * accuracy,\n",
        "                   d_loss_unsupervised, g_loss))"
      ]
    },
    {
      "cell_type": "markdown",
      "metadata": {
        "id": "Fy5892ZuCUCf"
      },
      "source": [
        "## 모델 훈련과 출력 조사"
      ]
    },
    {
      "cell_type": "code",
      "execution_count": null,
      "metadata": {
        "colab": {
          "base_uri": "https://localhost:8080/"
        },
        "id": "9J7305B3CUCf",
        "outputId": "192e25c7-170d-4840-8982-bc19ef72cebf",
        "scrolled": true
      },
      "outputs": [
        {
          "name": "stdout",
          "output_type": "stream",
          "text": [
            "800 [D loss supervised: 0.1617, acc.: 100.00%] [D loss unsupervised: 0.5167] [G loss: 1.896340]\n",
            "1600 [D loss supervised: 0.0702, acc.: 100.00%] [D loss unsupervised: 0.4018] [G loss: 1.584086]\n",
            "2400 [D loss supervised: 0.0727, acc.: 100.00%] [D loss unsupervised: 0.4377] [G loss: 1.266478]\n",
            "3200 [D loss supervised: 0.0245, acc.: 100.00%] [D loss unsupervised: 0.5540] [G loss: 1.532845]\n",
            "4000 [D loss supervised: 0.0253, acc.: 100.00%] [D loss unsupervised: 0.5349] [G loss: 1.500662]\n",
            "4800 [D loss supervised: 0.0127, acc.: 100.00%] [D loss unsupervised: 0.5239] [G loss: 1.557535]\n",
            "5600 [D loss supervised: 0.0167, acc.: 100.00%] [D loss unsupervised: 0.5138] [G loss: 1.509403]\n",
            "6400 [D loss supervised: 0.0091, acc.: 100.00%] [D loss unsupervised: 0.6077] [G loss: 1.383896]\n",
            "7200 [D loss supervised: 0.0327, acc.: 100.00%] [D loss unsupervised: 0.5738] [G loss: 1.508682]\n",
            "8000 [D loss supervised: 0.0033, acc.: 100.00%] [D loss unsupervised: 0.6228] [G loss: 1.643161]\n"
          ]
        }
      ],
      "source": [
        "# 하이퍼파라미터를 셋팅합니다.\n",
        "iterations = 8000\n",
        "batch_size = 32\n",
        "sample_interval = 800\n",
        "\n",
        "# 지정한 반복 횟수 동안 SGAN을 훈련합니다.\n",
        "train(iterations, batch_size, sample_interval)"
      ]
    },
    {
      "cell_type": "code",
      "execution_count": null,
      "metadata": {
        "colab": {
          "base_uri": "https://localhost:8080/",
          "height": 365
        },
        "id": "h92u9tEzCUCg",
        "outputId": "125d5231-941a-4066-dad7-0f310b20c986"
      },
      "outputs": [
        {
          "data": {
            "image/png": "[encoded data removed]",
            "text/plain": [
              "<Figure size 1080x360 with 1 Axes>"
            ]
          },
          "metadata": {
            "needs_background": "light"
          },
          "output_type": "display_data"
        }
      ],
      "source": [
        "losses = np.array(supervised_losses)\n",
        "\n",
        "# 판별자의 지도 학습 손실을 그립니다.\n",
        "plt.figure(figsize=(15, 5))\n",
        "plt.plot(iteration_checkpoints, losses, label=\"Discriminator loss\")\n",
        "\n",
        "plt.xticks(iteration_checkpoints, rotation=90)\n",
        "\n",
        "plt.title(\"Discriminator – Supervised Loss\")\n",
        "plt.xlabel(\"Iteration\")\n",
        "plt.ylabel(\"Loss\")\n",
        "plt.legend()\n",
        "plt.show()"
      ]
    },
    {
      "cell_type": "markdown",
      "metadata": {
        "id": "b5zD1QwrCUCh"
      },
      "source": [
        "## SGAN 분류기 – 훈련 세트와 테스트 세트 정확도"
      ]
    },
    {
      "cell_type": "code",
      "execution_count": null,
      "metadata": {
        "colab": {
          "base_uri": "https://localhost:8080/"
        },
        "id": "ajShPxUjCUCh",
        "outputId": "25d86102-88ad-4498-c71d-9564fae3d9eb"
      },
      "outputs": [
        {
          "name": "stdout",
          "output_type": "stream",
          "text": [
            "4/4 [==============================] - 0s 3ms/step - loss: 6.2972e-04 - accuracy: 1.0000\n",
            "Training Accuracy: 100.00%\n"
          ]
        }
      ],
      "source": [
        "x, y = dataset.training_set()\n",
        "y = to_categorical(y, num_classes=num_classes)\n",
        "\n",
        "# 훈련 세트에서 분류 정확도 계산\n",
        "_, accuracy = discriminator_supervised.evaluate(x, y)\n",
        "print(\"Training Accuracy: %.2f%%\" % (100 * accuracy))"
      ]
    },
    {
      "cell_type": "code",
      "execution_count": null,
      "metadata": {
        "colab": {
          "base_uri": "https://localhost:8080/"
        },
        "id": "sVJlwLDdCUCh",
        "outputId": "d67b232f-8a62-42c9-bd82-5573cf0024e7"
      },
      "outputs": [
        {
          "name": "stdout",
          "output_type": "stream",
          "text": [
            "313/313 [==============================] - 1s 2ms/step - loss: 0.3552 - accuracy: 0.9131\n",
            "Test Accuracy: 91.31%\n"
          ]
        }
      ],
      "source": [
        "x, y = dataset.test_set()\n",
        "y = to_categorical(y, num_classes=num_classes)\n",
        "\n",
        "# 테스트 세트에서 분류 정확도 계산\n",
        "_, accuracy = discriminator_supervised.evaluate(x, y)\n",
        "print(\"Test Accuracy: %.2f%%\" % (100 * accuracy))"
      ]
    },
    {
      "cell_type": "markdown",
      "metadata": {
        "id": "FZ2uciaRCUCh"
      },
      "source": [
        "# 완전히 지도 학습으로 훈련된 분류기"
      ]
    },
    {
      "cell_type": "code",
      "execution_count": null,
      "metadata": {
        "id": "Uf-efoiDCUCi"
      },
      "outputs": [],
      "source": [
        "# SGAN 판별자와 같은 네트워크 구조를 가진 지도 학습 분류기\n",
        "mnist_classifier = build_discriminator_supervised(build_discriminator_net(img_shape))\n",
        "mnist_classifier.compile(loss='categorical_crossentropy',\n",
        "                         metrics=['accuracy'],\n",
        "                         optimizer=Adam())"
      ]
    },
    {
      "cell_type": "code",
      "execution_count": null,
      "metadata": {
        "colab": {
          "base_uri": "https://localhost:8080/"
        },
        "id": "_V-rV4SqCUCi",
        "outputId": "338b8932-867a-4f89-d53b-b12c01bd361f"
      },
      "outputs": [
        {
          "name": "stdout",
          "output_type": "stream",
          "text": [
            "Epoch 1/30\n",
            "4/4 [==============================] - 1s 7ms/step - loss: 2.2943 - accuracy: 0.1700\n",
            "Epoch 2/30\n",
            "4/4 [==============================] - 0s 6ms/step - loss: 2.2056 - accuracy: 0.3100\n",
            "Epoch 3/30\n",
            "4/4 [==============================] - 0s 6ms/step - loss: 2.1418 - accuracy: 0.4500\n",
            "Epoch 4/30\n",
            "4/4 [==============================] - 0s 6ms/step - loss: 2.0479 - accuracy: 0.5500\n",
            "Epoch 5/30\n",
            "4/4 [==============================] - 0s 6ms/step - loss: 1.9038 - accuracy: 0.6300\n",
            "Epoch 6/30\n",
            "4/4 [==============================] - 0s 6ms/step - loss: 1.6854 - accuracy: 0.5900\n",
            "Epoch 7/30\n",
            "4/4 [==============================] - 0s 6ms/step - loss: 1.4605 - accuracy: 0.6100\n",
            "Epoch 8/30\n",
            "4/4 [==============================] - 0s 6ms/step - loss: 1.1608 - accuracy: 0.6900\n",
            "Epoch 9/30\n",
            "4/4 [==============================] - 0s 6ms/step - loss: 0.9007 - accuracy: 0.7400\n",
            "Epoch 10/30\n",
            "4/4 [==============================] - 0s 6ms/step - loss: 0.6303 - accuracy: 0.8500\n",
            "Epoch 11/30\n",
            "4/4 [==============================] - 0s 6ms/step - loss: 0.5359 - accuracy: 0.8300\n",
            "Epoch 12/30\n",
            "4/4 [==============================] - 0s 6ms/step - loss: 0.4133 - accuracy: 0.8900\n",
            "Epoch 13/30\n",
            "4/4 [==============================] - 0s 6ms/step - loss: 0.4316 - accuracy: 0.8600\n",
            "Epoch 14/30\n",
            "4/4 [==============================] - 0s 6ms/step - loss: 0.3114 - accuracy: 0.8900\n",
            "Epoch 15/30\n",
            "4/4 [==============================] - 0s 6ms/step - loss: 0.2518 - accuracy: 0.9300\n",
            "Epoch 16/30\n",
            "4/4 [==============================] - 0s 6ms/step - loss: 0.1798 - accuracy: 0.9400\n",
            "Epoch 17/30\n",
            "4/4 [==============================] - 0s 6ms/step - loss: 0.1979 - accuracy: 0.9300\n",
            "Epoch 18/30\n",
            "4/4 [==============================] - 0s 6ms/step - loss: 0.1441 - accuracy: 0.9700\n",
            "Epoch 19/30\n",
            "4/4 [==============================] - 0s 6ms/step - loss: 0.1076 - accuracy: 0.9700\n",
            "Epoch 20/30\n",
            "4/4 [==============================] - 0s 6ms/step - loss: 0.1449 - accuracy: 0.9700\n",
            "Epoch 21/30\n",
            "4/4 [==============================] - 0s 6ms/step - loss: 0.0995 - accuracy: 0.9700\n",
            "Epoch 22/30\n",
            "4/4 [==============================] - 0s 6ms/step - loss: 0.0679 - accuracy: 0.9900\n",
            "Epoch 23/30\n",
            "4/4 [==============================] - 0s 6ms/step - loss: 0.0571 - accuracy: 0.9900\n",
            "Epoch 24/30\n",
            "4/4 [==============================] - 0s 6ms/step - loss: 0.0606 - accuracy: 1.0000\n",
            "Epoch 25/30\n",
            "4/4 [==============================] - 0s 6ms/step - loss: 0.0276 - accuracy: 1.0000\n",
            "Epoch 26/30\n",
            "4/4 [==============================] - 0s 6ms/step - loss: 0.0545 - accuracy: 0.9900\n",
            "Epoch 27/30\n",
            "4/4 [==============================] - 0s 6ms/step - loss: 0.0582 - accuracy: 0.9900\n",
            "Epoch 28/30\n",
            "4/4 [==============================] - 0s 6ms/step - loss: 0.0328 - accuracy: 1.0000\n",
            "Epoch 29/30\n",
            "4/4 [==============================] - 0s 6ms/step - loss: 0.0182 - accuracy: 1.0000\n",
            "Epoch 30/30\n",
            "4/4 [==============================] - 0s 6ms/step - loss: 0.0302 - accuracy: 0.9800\n"
          ]
        }
      ],
      "source": [
        "imgs, labels = dataset.training_set()\n",
        "\n",
        "# 레이블을 원-핫 인코딩합니다.\n",
        "labels = to_categorical(labels, num_classes=num_classes)\n",
        "\n",
        "# 분류기를 훈련합니다.\n",
        "training = mnist_classifier.fit(x=imgs,\n",
        "                                y=labels,\n",
        "                                batch_size=32,\n",
        "                                epochs=30,\n",
        "                                verbose=1)\n",
        "losses = training.history['loss']\n",
        "accuracies = training.history['accuracy']"
      ]
    },
    {
      "cell_type": "code",
      "execution_count": null,
      "metadata": {
        "colab": {
          "base_uri": "https://localhost:8080/",
          "height": 336
        },
        "id": "NCLm27uFCUCi",
        "outputId": "04c9bc54-1981-4f86-e665-3879519b3ae6"
      },
      "outputs": [
        {
          "data": {
            "image/png": "[encoded data removed]",
            "text/plain": [
              "<Figure size 720x360 with 1 Axes>"
            ]
          },
          "metadata": {
            "needs_background": "light"
          },
          "output_type": "display_data"
        }
      ],
      "source": [
        "# 분류 손실을 그립니다\n",
        "plt.figure(figsize=(10, 5))\n",
        "plt.plot(np.array(losses), label=\"Loss\")\n",
        "plt.title(\"Classification Loss\")\n",
        "plt.legend()\n",
        "plt.show()"
      ]
    },
    {
      "cell_type": "code",
      "execution_count": null,
      "metadata": {
        "colab": {
          "base_uri": "https://localhost:8080/",
          "height": 336
        },
        "id": "bdmZTbHnCUCi",
        "outputId": "e7d0ad60-24b8-4d44-9c2e-9fa755f753aa"
      },
      "outputs": [
        {
          "data": {
            "image/png": "[encoded data removed]",
            "text/plain": [
              "<Figure size 720x360 with 1 Axes>"
            ]
          },
          "metadata": {
            "needs_background": "light"
          },
          "output_type": "display_data"
        }
      ],
      "source": [
        "# 분류 정확도를 그립니다.\n",
        "plt.figure(figsize=(10, 5))\n",
        "plt.plot(np.array(accuracies), label=\"Accuracy\")\n",
        "plt.title(\"Classification Accuracy\")\n",
        "plt.legend()\n",
        "plt.show()"
      ]
    },
    {
      "cell_type": "code",
      "execution_count": null,
      "metadata": {
        "colab": {
          "base_uri": "https://localhost:8080/"
        },
        "id": "UAevicZSCUCi",
        "outputId": "688c19b6-1829-4e6f-d792-36fa940f0321"
      },
      "outputs": [
        {
          "name": "stdout",
          "output_type": "stream",
          "text": [
            "4/4 [==============================] - 0s 3ms/step - loss: 0.0056 - accuracy: 1.0000\n",
            "Training Accuracy: 100.00%\n"
          ]
        }
      ],
      "source": [
        "x, y = dataset.training_set()\n",
        "y = to_categorical(y, num_classes=num_classes)\n",
        "\n",
        "# 훈련 세트에 대한 분류 정확도를 계산합니다.\n",
        "_, accuracy = mnist_classifier.evaluate(x, y)\n",
        "print(\"Training Accuracy: %.2f%%\" % (100 * accuracy))"
      ]
    },
    {
      "cell_type": "code",
      "execution_count": null,
      "metadata": {
        "colab": {
          "base_uri": "https://localhost:8080/"
        },
        "id": "o02hr24eCUCi",
        "outputId": "f2320d94-a123-433c-9fc0-0538d2f7b703"
      },
      "outputs": [
        {
          "name": "stdout",
          "output_type": "stream",
          "text": [
            "313/313 [==============================] - 1s 2ms/step - loss: 1.4502 - accuracy: 0.6868\n",
            "Test Accuracy: 68.68%\n"
          ]
        }
      ],
      "source": [
        "x, y = dataset.test_set()\n",
        "y = to_categorical(y, num_classes=num_classes)\n",
        "\n",
        "# 테스트 세트에 대한 분류 정확도를 계산합니다.\n",
        "_, accuracy = mnist_classifier.evaluate(x, y)\n",
        "print(\"Test Accuracy: %.2f%%\" % (100 * accuracy))"
      ]
    }
  ],
  "metadata": {
    "accelerator": "GPU",
    "colab": {
      "name": "Chapter_7_SGAN.ipynb의 사본",
      "provenance": [],
      "include_colab_link": true
    },
    "kernelspec": {
      "display_name": "TensorFlow 2.3 on Python 3.6 (CUDA 10.1)",
      "language": "python",
      "name": "python3"
    },
    "language_info": {
      "codemirror_mode": {
        "name": "ipython",
        "version": 3
      },
      "file_extension": ".py",
      "mimetype": "text/x-python",
      "name": "python",
      "nbconvert_exporter": "python",
      "pygments_lexer": "ipython3",
      "version": "3.7.7"
    }
  },
  "nbformat": 4,
  "nbformat_minor": 0
}